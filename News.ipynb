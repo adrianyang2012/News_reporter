{
  "cells": [
    {
      "cell_type": "markdown",
      "metadata": {
        "id": "view-in-github",
        "colab_type": "text"
      },
      "source": [
        "<a href=\"https://colab.research.google.com/github/adrianyang2012/News_reporter/blob/main/News.ipynb\" target=\"_parent\"><img src=\"https://colab.research.google.com/assets/colab-badge.svg\" alt=\"Open In Colab\"/></a>"
      ]
    },
    {
      "cell_type": "code",
      "source": [
        "news_list = []\n"
      ],
      "metadata": {
        "id": "kSh2FNF_BSkM"
      },
      "execution_count": 2,
      "outputs": []
    },
    {
      "cell_type": "code",
      "execution_count": 3,
      "metadata": {
        "colab": {
          "base_uri": "https://localhost:8080/"
        },
        "id": "TP0x4jGoOcjv",
        "outputId": "dc24a9d7-641a-4027-cb23-e6273903e005"
      },
      "outputs": [
        {
          "name": "stdout",
          "output_type": "stream",
          "text": [
            "Are you a (1) news reporter or a (2) reader(type the number): 1\n",
            "what is the title: Science fair\n",
            "what do you want to add to your news(fake news will be caught!)\n",
            "type headlines to make it a headline\n",
            "type the text(type stop to stop adding paragraphs): headlines\n",
            "type the headline: NEW ANTIOXIDANT EXPERIMENT\n",
            "type the text(type stop to stop adding paragraphs): Study's show that antioxidant containing foods are mainly lemon, vitamin c and maple shoju\n",
            "type the text(type stop to stop adding paragraphs): Also, green tea has more antioxidant effects\n",
            "type the text(type stop to stop adding paragraphs): headlines\n",
            "type the headline: ANOTHER SCIENCE FAIR\n",
            "type the text(type stop to stop adding paragraphs): Another science fair shows that anthocyanins are antioxidants\n",
            "type the text(type stop to stop adding paragraphs): so yeah\n",
            "type the text(type stop to stop adding paragraphs): stop\n"
          ]
        }
      ],
      "source": [
        "options = input('Are you a (1) news reporter or a (2) reader(type the number): ')\n",
        "if options == \"1\":\n",
        "  news_dictionary= {'title':input(\"what is the title: \")}\n",
        "  paragraphs = []\n",
        "  print('what do you want to add to your news(fake news will be caught!)')\n",
        "  print('type headlines to make it a headline')\n",
        "  while True:\n",
        "\n",
        "    paragraphs.append(input('type the text(type stop to stop adding paragraphs): '))\n",
        "    if paragraphs[-1] == 'stop':\n",
        "      paragraphs.remove('stop')\n",
        "      break\n",
        "    elif paragraphs[-1] == 'headlines':\n",
        "      del paragraphs[-1]\n",
        "      paragraphs.append('\\t'+input('type the headline: '))\n",
        "  news_dictionary['paragraphs'] = paragraphs\n",
        "  news_list.append(news_dictionary)\n"
      ]
    },
    {
      "cell_type": "code",
      "execution_count": 11,
      "metadata": {
        "colab": {
          "base_uri": "https://localhost:8080/"
        },
        "id": "ZF_SeEPxZBJ3",
        "outputId": "cebd46a4-4272-4f90-f02f-20afd3dd7ddf"
      },
      "outputs": [
        {
          "output_type": "stream",
          "name": "stdout",
          "text": [
            "Newspapers:\n",
            "Science fair\n",
            "\tNEW ANTIOXIDANT EXPERIMENT\n",
            "Study's show that antioxidant containing foods are mainly lemon, vitamin...\n"
          ]
        }
      ],
      "source": [
        "print('Newspapers:')\n",
        "for i in range(0,len(news_list)):\n",
        "  print(news_list[i]['title'])\n",
        "  print('\\n'.join(news_list[i]['paragraphs'])[:100]+'...')"
      ]
    },
    {
      "cell_type": "code",
      "source": [],
      "metadata": {
        "colab": {
          "base_uri": "https://localhost:8080/",
          "height": 36
        },
        "id": "Di7PVzIySwLd",
        "outputId": "0665f8aa-b511-495d-cdfb-05a13d1525cb"
      },
      "execution_count": 8,
      "outputs": [
        {
          "output_type": "execute_result",
          "data": {
            "text/plain": [
              "' yummy'"
            ],
            "application/vnd.google.colaboratory.intrinsic+json": {
              "type": "string"
            }
          },
          "metadata": {},
          "execution_count": 8
        }
      ]
    }
  ],
  "metadata": {
    "colab": {
      "provenance": [],
      "authorship_tag": "ABX9TyP1CZ/ZvLOWcvfaLqKVPymv",
      "include_colab_link": true
    },
    "kernelspec": {
      "display_name": "Python 3",
      "name": "python3"
    },
    "language_info": {
      "name": "python"
    }
  },
  "nbformat": 4,
  "nbformat_minor": 0
}