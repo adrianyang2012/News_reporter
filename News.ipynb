{
  "nbformat": 4,
  "nbformat_minor": 0,
  "metadata": {
    "colab": {
      "provenance": [],
      "authorship_tag": "ABX9TyPvpaRkpPMPpz5t44O91gyi",
      "include_colab_link": true
    },
    "kernelspec": {
      "name": "python3",
      "display_name": "Python 3"
    },
    "language_info": {
      "name": "python"
    }
  },
  "cells": [
    {
      "cell_type": "markdown",
      "metadata": {
        "id": "view-in-github",
        "colab_type": "text"
      },
      "source": [
        "<a href=\"https://colab.research.google.com/github/adrianyang2012/News_reporter/blob/main/News.ipynb\" target=\"_parent\"><img src=\"https://colab.research.google.com/assets/colab-badge.svg\" alt=\"Open In Colab\"/></a>"
      ]
    },
    {
      "cell_type": "code",
      "execution_count": 1,
      "metadata": {
        "id": "TP0x4jGoOcjv",
        "colab": {
          "base_uri": "https://localhost:8080/"
        },
        "outputId": "3da1a397-d36c-4664-814d-7ccfe8bb9f7f"
      },
      "outputs": [
        {
          "name": "stdout",
          "output_type": "stream",
          "text": [
            "Are you a (1) news reporter or a (2) reader(type the number)1\n",
            "what is the titleapple\n",
            "what do you want to add to your news(fake news will be caught!)\n",
            "type the text(type stop to stop adding paragraphs):reports show that apples are yummy\n",
            "what do you want to add to your news(fake news will be caught!)\n",
            "type the text(type stop to stop adding paragraphs):yeah\n",
            "what do you want to add to your news(fake news will be caught!)\n",
            "type the text(type stop to stop adding paragraphs):stop\n"
          ]
        }
      ],
      "source": [
        "news_list = []\n",
        "options = input('Are you a (1) news reporter or a (2) reader(type the number)')\n",
        "if options == \"1\":\n",
        "  news_dictionary= {'title':input(\"what is the title\")}\n",
        "  paragraphs = []\n",
        "  print('what do you want to add to your news(fake news will be caught!)')\n",
        "  while True:\n",
        "\n",
        "    paragraphs.append(input('type the text(type stop to stop adding paragraphs):'))\n",
        "    if paragraphs[-1] == 'stop':\n",
        "      paragraphs.remove('stop')\n",
        "      break\n",
        "  news_dictionary['paragraphs'] = paragraphs\n",
        "  news_list.append(news_dictionary)\n"
      ]
    }
  ]
}