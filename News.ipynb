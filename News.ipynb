{
  "cells": [
    {
      "cell_type": "markdown",
      "metadata": {
        "id": "view-in-github",
        "colab_type": "text"
      },
      "source": [
        "<a href=\"https://colab.research.google.com/github/adrianyang2012/News_reporter/blob/main/News.ipynb\" target=\"_parent\"><img src=\"https://colab.research.google.com/assets/colab-badge.svg\" alt=\"Open In Colab\"/></a>"
      ]
    },
    {
      "cell_type": "code",
      "source": [
        "news_list = []\n"
      ],
      "metadata": {
        "id": "kSh2FNF_BSkM"
      },
      "execution_count": 2,
      "outputs": []
    },
    {
      "cell_type": "code",
      "execution_count": 17,
      "metadata": {
        "colab": {
          "base_uri": "https://localhost:8080/"
        },
        "id": "TP0x4jGoOcjv",
        "outputId": "916a47eb-eb86-426b-cb0c-65af75371212"
      },
      "outputs": [
        {
          "output_type": "stream",
          "name": "stdout",
          "text": [
            "Are you a (1) news reporter or a (2) reader(type the number): 2\n",
            "Newspapers:\n",
            "(1)Science fair\n",
            "\tNEW ANTIOXIDANT EXPERIMENT\n",
            "Study's show that antioxidant containing foods are mainly lemon, vitamin...\n",
            "(2)Bluefins big tuna \n",
            "\tbluefins big tuna is next friday\n",
            "we watched a movie to\n",
            "also we also have practice starting next thu...\n"
          ]
        }
      ],
      "source": [
        "options = input('Are you a (1) news reporter or a (2) reader(type the number): ')\n",
        "if options == \"1\":\n",
        "  news_dictionary= {'title':input(\"what is the title: \")}\n",
        "  paragraphs = []\n",
        "  print('what do you want to add to your news(fake news will be caught!)')\n",
        "  print('type headlines to make it a headline')\n",
        "  while True:\n",
        "\n",
        "    paragraphs.append(input('type the text(type stop to stop adding paragraphs): '))\n",
        "    if paragraphs[-1] == 'stop':\n",
        "      paragraphs.remove('stop')\n",
        "      break\n",
        "    elif paragraphs[-1] == 'headlines':\n",
        "      del paragraphs[-1]\n",
        "      paragraphs.append('\\t'+input('type the headline: '))\n",
        "  news_dictionary['paragraphs'] = paragraphs\n",
        "  news_list.append(news_dictionary)\n",
        "else:\n",
        "  print('Newspapers:')\n",
        "  for i in range(0,len(news_list)):\n",
        "    print('('+str(i+1)+')'+news_list[i]['title'])\n",
        "    print('\\n'.join(news_list[i]['paragraphs'])[:100]+'...')"
      ]
    },
    {
      "cell_type": "code",
      "execution_count": 13,
      "metadata": {
        "colab": {
          "base_uri": "https://localhost:8080/"
        },
        "id": "ZF_SeEPxZBJ3",
        "outputId": "c54dbdea-d285-4986-f2e2-480ff32e4e00"
      },
      "outputs": [
        {
          "output_type": "stream",
          "name": "stdout",
          "text": [
            "Newspapers:\n",
            "(1)Science fair\n",
            "\tNEW ANTIOXIDANT EXPERIMENT\n",
            "Study's show that antioxidant containing foods are mainly lemon, vitamin...\n"
          ]
        }
      ],
      "source": []
    },
    {
      "cell_type": "code",
      "source": [],
      "metadata": {
        "colab": {
          "base_uri": "https://localhost:8080/",
          "height": 36
        },
        "id": "Di7PVzIySwLd",
        "outputId": "0665f8aa-b511-495d-cdfb-05a13d1525cb"
      },
      "execution_count": 8,
      "outputs": [
        {
          "output_type": "execute_result",
          "data": {
            "text/plain": [
              "' yummy'"
            ],
            "application/vnd.google.colaboratory.intrinsic+json": {
              "type": "string"
            }
          },
          "metadata": {},
          "execution_count": 8
        }
      ]
    }
  ],
  "metadata": {
    "colab": {
      "provenance": [],
      "authorship_tag": "ABX9TyOgXfKXPV+UBFlfywGKSKYw",
      "include_colab_link": true
    },
    "kernelspec": {
      "display_name": "Python 3",
      "name": "python3"
    },
    "language_info": {
      "name": "python"
    }
  },
  "nbformat": 4,
  "nbformat_minor": 0
}