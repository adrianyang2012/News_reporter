{
  "cells": [
    {
      "cell_type": "markdown",
      "metadata": {
        "id": "view-in-github",
        "colab_type": "text"
      },
      "source": [
        "<a href=\"https://colab.research.google.com/github/adrianyang2012/News_reporter/blob/main/News.ipynb\" target=\"_parent\"><img src=\"https://colab.research.google.com/assets/colab-badge.svg\" alt=\"Open In Colab\"/></a>"
      ]
    },
    {
      "cell_type": "code",
      "source": [
        "news_list = []\n",
        "manager_password = \"apples are yummy and stuff and stuff and stuff\""
      ],
      "metadata": {
        "id": "kSh2FNF_BSkM"
      },
      "execution_count": null,
      "outputs": []
    },
    {
      "cell_type": "code",
      "execution_count": null,
      "metadata": {
        "colab": {
          "base_uri": "https://localhost:8080/",
          "height": 1000
        },
        "id": "TP0x4jGoOcjv",
        "outputId": "5d058e3e-0af6-414b-e89f-231004ad6d2e"
      },
      "outputs": [
        {
          "output_type": "stream",
          "name": "stdout",
          "text": [
            "Are you a (1) news reporter or a (2) reader or (3) manager(type the number): 1\n",
            "what is the title: Apples are yummy!\n",
            "what do you want to add to your news(fake news will be caught!)\n",
            "type headlines to make it a headline\n",
            "type the text(type stop to stop adding paragraphs): headlines\n",
            "type the headline(it will be uppercase(if you do not want this then use type \\t before typing a sentence in a normal paragraph)): apples are yummy according to studies\n",
            "type the text(type stop to stop adding paragraphs): apples\n",
            "type the text(type stop to stop adding paragraphs): apples\n",
            "type the text(type stop to stop adding paragraphs): stop\n",
            "type enter to read more or let the next person in line read news\n",
            "Are you a (1) news reporter or a (2) reader or (3) manager(type the number): 2\n",
            "Newspapers:\n",
            "_________________________________________________\n",
            "(1)Apples are yummy!\n",
            "\tAPPLES ARE YUMMY ACCORDING TO STUDIES\n",
            "apples\n",
            "apples...\n",
            "_________________________________________________\n",
            "which newspaper do you want to read\n",
            ":1\n",
            "_________________________________________________\n",
            "\tAPPLES ARE YUMMY ACCORDING TO STUDIES\n",
            "apples\n",
            "apples\n",
            "type enter to read more or let the next person in line read news\n",
            "Are you a (1) news reporter or a (2) reader or (3) manager(type the number): 2\n",
            "Newspapers:\n",
            "_________________________________________________\n",
            "(1)Apples are yummy!\n",
            "\tAPPLES ARE YUMMY ACCORDING TO STUDIES\n",
            "apples\n",
            "apples...\n",
            "_________________________________________________\n",
            "which newspaper do you want to read\n",
            ":1\n",
            "_________________________________________________\n",
            "\tAPPLES ARE YUMMY ACCORDING TO STUDIES\n",
            "apples\n",
            "apples\n",
            "type enter to read more or let the next person in line read news\n",
            "Are you a (1) news reporter or a (2) reader or (3) manager(type the number): 1\n",
            "what is the title: Swim\n",
            "what do you want to add to your news(fake news will be caught!)\n",
            "type headlines to make it a headline\n",
            "type the text(type stop to stop adding paragraphs): headlines\n",
            "type the headline(it will be uppercase(if you do not want this then use type \\t before typing a sentence in a normal paragraph)): BLUEFINS BEAT CUDAS\n",
            "type the text(type stop to stop adding paragraphs): bluefins beat cudas by 100 points in a meet on saturday. Many team records were also broken their. The boys 9-10 medley relay is now in the top 3 and Ethan Locke medley relay almost won.\n",
            "type the text(type stop to stop adding paragraphs): no meet this weekend for every tieam\n",
            "type the text(type stop to stop adding paragraphs): oops team\n",
            "type the text(type stop to stop adding paragraphs): stop\n",
            "type enter to read more or let the next person in line read news\n",
            "Are you a (1) news reporter or a (2) reader or (3) manager(type the number): 2\n",
            "Newspapers:\n",
            "_________________________________________________\n",
            "(1)Apples are yummy!\n",
            "\tAPPLES ARE YUMMY ACCORDING TO STUDIES\n",
            "apples\n",
            "apples...\n",
            "_________________________________________________\n",
            "(2)Swim\n",
            "\tBLUEFINS BEAT CUDAS\n",
            "bluefins beat cudas by 100 points in a meet on saturday. Many team records were...\n",
            "_________________________________________________\n",
            "which newspaper do you want to read\n",
            ":2\n",
            "_________________________________________________\n",
            "\tBLUEFINS BEAT CUDAS\n",
            "bluefins beat cudas by 100 points in a meet on saturday. Many team records were also broken their. The boys 9-10 medley relay is now in the top 3 and Ethan Locke medley relay almost won.\n",
            "no meet this weekend for every tieam\n",
            "oops team\n",
            "type enter to read more or let the next person in line read news\n",
            "Are you a (1) news reporter or a (2) reader or (3) manager(type the number): 3\n",
            "type the passwordapples are yummy and stuff and stuff and stuff\n",
            "here are the news: [{'title': 'Apples are yummy!', 'paragraphs': ['\\tAPPLES ARE YUMMY ACCORDING TO STUDIES', 'apples', 'apples']}, {'title': 'Swim', 'paragraphs': ['\\tBLUEFINS BEAT CUDAS', 'bluefins beat cudas by 100 points in a meet on saturday. Many team records were also broken their. The boys 9-10 medley relay is now in the top 3 and Ethan Locke medley relay almost won.', 'no meet this weekend for every tieam', 'oops team']}]\n"
          ]
        },
        {
          "output_type": "error",
          "ename": "KeyboardInterrupt",
          "evalue": "ignored",
          "traceback": [
            "\u001b[0;31m---------------------------------------------------------------------------\u001b[0m",
            "\u001b[0;31mKeyboardInterrupt\u001b[0m                         Traceback (most recent call last)",
            "\u001b[0;32m<ipython-input-3-9047b33aa9c0>\u001b[0m in \u001b[0;36m<cell line: 1>\u001b[0;34m()\u001b[0m\n\u001b[1;32m      1\u001b[0m \u001b[0;32mwhile\u001b[0m \u001b[0;32mTrue\u001b[0m\u001b[0;34m:\u001b[0m\u001b[0;34m\u001b[0m\u001b[0;34m\u001b[0m\u001b[0m\n\u001b[0;32m----> 2\u001b[0;31m   \u001b[0moptions\u001b[0m \u001b[0;34m=\u001b[0m \u001b[0minput\u001b[0m\u001b[0;34m(\u001b[0m\u001b[0;34m'Are you a (1) news reporter or a (2) reader or (3) manager(type the number): '\u001b[0m\u001b[0;34m)\u001b[0m\u001b[0;34m\u001b[0m\u001b[0;34m\u001b[0m\u001b[0m\n\u001b[0m\u001b[1;32m      3\u001b[0m   \u001b[0;32mif\u001b[0m \u001b[0moptions\u001b[0m \u001b[0;34m==\u001b[0m \u001b[0;34m\"1\"\u001b[0m\u001b[0;34m:\u001b[0m\u001b[0;34m\u001b[0m\u001b[0;34m\u001b[0m\u001b[0m\n\u001b[1;32m      4\u001b[0m     \u001b[0mnews_dictionary\u001b[0m\u001b[0;34m=\u001b[0m \u001b[0;34m{\u001b[0m\u001b[0;34m'title'\u001b[0m\u001b[0;34m:\u001b[0m\u001b[0minput\u001b[0m\u001b[0;34m(\u001b[0m\u001b[0;34m\"what is the title: \"\u001b[0m\u001b[0;34m)\u001b[0m\u001b[0;34m}\u001b[0m\u001b[0;34m\u001b[0m\u001b[0;34m\u001b[0m\u001b[0m\n\u001b[1;32m      5\u001b[0m     \u001b[0mparagraphs\u001b[0m \u001b[0;34m=\u001b[0m \u001b[0;34m[\u001b[0m\u001b[0;34m]\u001b[0m\u001b[0;34m\u001b[0m\u001b[0;34m\u001b[0m\u001b[0m\n",
            "\u001b[0;32m/usr/local/lib/python3.10/dist-packages/ipykernel/kernelbase.py\u001b[0m in \u001b[0;36mraw_input\u001b[0;34m(self, prompt)\u001b[0m\n\u001b[1;32m    849\u001b[0m                 \u001b[0;34m\"raw_input was called, but this frontend does not support input requests.\"\u001b[0m\u001b[0;34m\u001b[0m\u001b[0;34m\u001b[0m\u001b[0m\n\u001b[1;32m    850\u001b[0m             )\n\u001b[0;32m--> 851\u001b[0;31m         return self._input_request(str(prompt),\n\u001b[0m\u001b[1;32m    852\u001b[0m             \u001b[0mself\u001b[0m\u001b[0;34m.\u001b[0m\u001b[0m_parent_ident\u001b[0m\u001b[0;34m,\u001b[0m\u001b[0;34m\u001b[0m\u001b[0;34m\u001b[0m\u001b[0m\n\u001b[1;32m    853\u001b[0m             \u001b[0mself\u001b[0m\u001b[0;34m.\u001b[0m\u001b[0m_parent_header\u001b[0m\u001b[0;34m,\u001b[0m\u001b[0;34m\u001b[0m\u001b[0;34m\u001b[0m\u001b[0m\n",
            "\u001b[0;32m/usr/local/lib/python3.10/dist-packages/ipykernel/kernelbase.py\u001b[0m in \u001b[0;36m_input_request\u001b[0;34m(self, prompt, ident, parent, password)\u001b[0m\n\u001b[1;32m    893\u001b[0m             \u001b[0;32mexcept\u001b[0m \u001b[0mKeyboardInterrupt\u001b[0m\u001b[0;34m:\u001b[0m\u001b[0;34m\u001b[0m\u001b[0;34m\u001b[0m\u001b[0m\n\u001b[1;32m    894\u001b[0m                 \u001b[0;31m# re-raise KeyboardInterrupt, to truncate traceback\u001b[0m\u001b[0;34m\u001b[0m\u001b[0;34m\u001b[0m\u001b[0m\n\u001b[0;32m--> 895\u001b[0;31m                 \u001b[0;32mraise\u001b[0m \u001b[0mKeyboardInterrupt\u001b[0m\u001b[0;34m(\u001b[0m\u001b[0;34m\"Interrupted by user\"\u001b[0m\u001b[0;34m)\u001b[0m \u001b[0;32mfrom\u001b[0m \u001b[0;32mNone\u001b[0m\u001b[0;34m\u001b[0m\u001b[0;34m\u001b[0m\u001b[0m\n\u001b[0m\u001b[1;32m    896\u001b[0m             \u001b[0;32mexcept\u001b[0m \u001b[0mException\u001b[0m \u001b[0;32mas\u001b[0m \u001b[0me\u001b[0m\u001b[0;34m:\u001b[0m\u001b[0;34m\u001b[0m\u001b[0;34m\u001b[0m\u001b[0m\n\u001b[1;32m    897\u001b[0m                 \u001b[0mself\u001b[0m\u001b[0;34m.\u001b[0m\u001b[0mlog\u001b[0m\u001b[0;34m.\u001b[0m\u001b[0mwarning\u001b[0m\u001b[0;34m(\u001b[0m\u001b[0;34m\"Invalid Message:\"\u001b[0m\u001b[0;34m,\u001b[0m \u001b[0mexc_info\u001b[0m\u001b[0;34m=\u001b[0m\u001b[0;32mTrue\u001b[0m\u001b[0;34m)\u001b[0m\u001b[0;34m\u001b[0m\u001b[0;34m\u001b[0m\u001b[0m\n",
            "\u001b[0;31mKeyboardInterrupt\u001b[0m: Interrupted by user"
          ]
        }
      ],
      "source": [
        "import time\n",
        "while True:\n",
        "  options = input('Are you a (1) news reporter or a (2) reader or (3) manager(type the number): ')\n",
        "  if options == \"1\":\n",
        "    news_dictionary= {'title':input(\"what is the title: \")}\n",
        "    paragraphs = []\n",
        "    print('what do you want to add to your news(fake news will be caught!)')\n",
        "    print('type headlines to make it a headline')\n",
        "    while True:\n",
        "\n",
        "      paragraphs.append(input('type the text(type stop to stop adding paragraphs): '))\n",
        "      if paragraphs[-1] == 'stop':\n",
        "        paragraphs.remove('stop')\n",
        "        break\n",
        "      elif paragraphs[-1] == 'headlines':\n",
        "        del paragraphs[-1]\n",
        "        paragraphs.append(('\\t'+input('type the headline(it will be uppercase(if you do not want this then use type \\\\t before typing a sentence in a normal paragraph)): ')).upper())\n",
        "    news_dictionary['paragraphs'] = paragraphs\n",
        "    news_list.append(news_dictionary)\n",
        "    input('type enter to read more or let the next person in line read news')\n",
        "  elif options == '2':\n",
        "    print('Newspapers:')\n",
        "    print('_________________________________________________')\n",
        "    for i in range(0,len(news_list)):\n",
        "      print('('+str(i+1)+')'+news_list[i]['title'])\n",
        "      print('\\n'.join(news_list[i]['paragraphs'])[:100]+'...')\n",
        "      print('_________________________________________________')\n",
        "    print('which newspaper do you want to read')\n",
        "    news_num = int(input(':'))-1\n",
        "    print('_________________________________________________')\n",
        "    print('\\n'.join(news_list[news_num]['paragraphs']))\n",
        "    input('type enter to read more or let the next person in line read news')\n",
        "  else:\n",
        "    if input('type the password') == manager_password:\n",
        "      print(f'here are the news: {news_list}')\n",
        "      print('press control-c to stop this thing')\n",
        "      time.sleep(1000)\n"
      ]
    },
    {
      "cell_type": "code",
      "source": [],
      "metadata": {
        "id": "JgfQlGCZV4O5"
      },
      "execution_count": null,
      "outputs": []
    },
    {
      "cell_type": "code",
      "execution_count": null,
      "metadata": {
        "colab": {
          "base_uri": "https://localhost:8080/"
        },
        "id": "ZF_SeEPxZBJ3",
        "outputId": "c54dbdea-d285-4986-f2e2-480ff32e4e00"
      },
      "outputs": [
        {
          "output_type": "stream",
          "name": "stdout",
          "text": [
            "Newspapers:\n",
            "(1)Science fair\n",
            "\tNEW ANTIOXIDANT EXPERIMENT\n",
            "Study's show that antioxidant containing foods are mainly lemon, vitamin...\n"
          ]
        }
      ],
      "source": []
    },
    {
      "cell_type": "code",
      "source": [],
      "metadata": {
        "colab": {
          "base_uri": "https://localhost:8080/",
          "height": 36
        },
        "id": "Di7PVzIySwLd",
        "outputId": "0665f8aa-b511-495d-cdfb-05a13d1525cb"
      },
      "execution_count": null,
      "outputs": [
        {
          "output_type": "execute_result",
          "data": {
            "text/plain": [
              "' yummy'"
            ],
            "application/vnd.google.colaboratory.intrinsic+json": {
              "type": "string"
            }
          },
          "metadata": {},
          "execution_count": 8
        }
      ]
    }
  ],
  "metadata": {
    "colab": {
      "provenance": [],
      "authorship_tag": "ABX9TyP5UqYonYADeaIpRPUDJAvm",
      "include_colab_link": true
    },
    "kernelspec": {
      "display_name": "Python 3",
      "name": "python3"
    },
    "language_info": {
      "name": "python"
    }
  },
  "nbformat": 4,
  "nbformat_minor": 0
}