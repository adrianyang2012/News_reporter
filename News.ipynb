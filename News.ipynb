{
  "cells": [
    {
      "cell_type": "markdown",
      "metadata": {
        "id": "view-in-github",
        "colab_type": "text"
      },
      "source": [
        "<a href=\"https://colab.research.google.com/github/adrianyang2012/News_reporter/blob/main/News.ipynb\" target=\"_parent\"><img src=\"https://colab.research.google.com/assets/colab-badge.svg\" alt=\"Open In Colab\"/></a>"
      ]
    },
    {
      "cell_type": "code",
      "source": [
        "news_list = []\n"
      ],
      "metadata": {
        "id": "kSh2FNF_BSkM"
      },
      "execution_count": 2,
      "outputs": []
    },
    {
      "cell_type": "code",
      "execution_count": 7,
      "metadata": {
        "colab": {
          "base_uri": "https://localhost:8080/"
        },
        "id": "TP0x4jGoOcjv",
        "outputId": "e0318d01-aeee-4b39-d918-f838e5459425"
      },
      "outputs": [
        {
          "output_type": "stream",
          "name": "stdout",
          "text": [
            "Are you a (1) news reporter or a (2) reader(type the number): 2\n",
            "Newspapers:\n",
            "_________________________________________________\n",
            "(1)APPLES!\n",
            "\tNO DIRTY APPLES\n",
            "A science fair has discovered a way to make apples not brown\n",
            "apples turn brown beca...\n",
            "_________________________________________________\n",
            "(2)SCIENCE FAIRS!!!!!!!!\n",
            "\tNEW EXPERIMENT ON ANTIOXIDANTS\n",
            "A new science fair discovered that lemon, vitamin c, and maple shoju...\n",
            "_________________________________________________\n",
            "(3)BLUEFINS BEAT BARRACUDAS\n",
            "\tIN A NEW MEET BLUEFINS ARE AHEAD OF CUDAS BY 100 POINTS\n",
            "Also we do not have meet this weekeng...\n",
            "_________________________________________________\n",
            "which newspaper do you want to read\n",
            ":1\n",
            "_________________________________________________\n",
            "\tNO DIRTY APPLES\n",
            "A science fair has discovered a way to make apples not brown\n",
            "apples turn brown because they are oxidized. So, antioxidants can prevent this!\n",
            "The best things to preserve apples are lemons and vitamin c\n"
          ]
        }
      ],
      "source": [
        "options = input('Are you a (1) news reporter or a (2) reader(type the number): ')\n",
        "if options == \"1\":\n",
        "  news_dictionary= {'title':input(\"what is the title: \")}\n",
        "  paragraphs = []\n",
        "  print('what do you want to add to your news(fake news will be caught!)')\n",
        "  print('type headlines to make it a headline')\n",
        "  while True:\n",
        "\n",
        "    paragraphs.append(input('type the text(type stop to stop adding paragraphs): '))\n",
        "    if paragraphs[-1] == 'stop':\n",
        "      paragraphs.remove('stop')\n",
        "      break\n",
        "    elif paragraphs[-1] == 'headlines':\n",
        "      del paragraphs[-1]\n",
        "      paragraphs.append(('\\t'+input('type the headline(it will be uppercase(if you do not want this then use type \\\\t before typing a sentence in a normal paragraph)): ')).upper())\n",
        "  news_dictionary['paragraphs'] = paragraphs\n",
        "  news_list.append(news_dictionary)\n",
        "else:\n",
        "  print('Newspapers:')\n",
        "  print('_________________________________________________')\n",
        "  for i in range(0,len(news_list)):\n",
        "    print('('+str(i+1)+')'+news_list[i]['title'])\n",
        "    print('\\n'.join(news_list[i]['paragraphs'])[:100]+'...')\n",
        "    print('_________________________________________________')\n",
        "  print('which newspaper do you want to read')\n",
        "  news_num = int(input(':'))-1\n",
        "  print('_________________________________________________')\n",
        "  print('\\n'.join(news_list[news_num]['paragraphs']))"
      ]
    },
    {
      "cell_type": "code",
      "source": [],
      "metadata": {
        "id": "JgfQlGCZV4O5"
      },
      "execution_count": null,
      "outputs": []
    },
    {
      "cell_type": "code",
      "execution_count": null,
      "metadata": {
        "colab": {
          "base_uri": "https://localhost:8080/"
        },
        "id": "ZF_SeEPxZBJ3",
        "outputId": "c54dbdea-d285-4986-f2e2-480ff32e4e00"
      },
      "outputs": [
        {
          "output_type": "stream",
          "name": "stdout",
          "text": [
            "Newspapers:\n",
            "(1)Science fair\n",
            "\tNEW ANTIOXIDANT EXPERIMENT\n",
            "Study's show that antioxidant containing foods are mainly lemon, vitamin...\n"
          ]
        }
      ],
      "source": []
    },
    {
      "cell_type": "code",
      "source": [],
      "metadata": {
        "colab": {
          "base_uri": "https://localhost:8080/",
          "height": 36
        },
        "id": "Di7PVzIySwLd",
        "outputId": "0665f8aa-b511-495d-cdfb-05a13d1525cb"
      },
      "execution_count": null,
      "outputs": [
        {
          "output_type": "execute_result",
          "data": {
            "text/plain": [
              "' yummy'"
            ],
            "application/vnd.google.colaboratory.intrinsic+json": {
              "type": "string"
            }
          },
          "metadata": {},
          "execution_count": 8
        }
      ]
    }
  ],
  "metadata": {
    "colab": {
      "provenance": [],
      "authorship_tag": "ABX9TyOpKpcGrF204XbcpLa1f7wi",
      "include_colab_link": true
    },
    "kernelspec": {
      "display_name": "Python 3",
      "name": "python3"
    },
    "language_info": {
      "name": "python"
    }
  },
  "nbformat": 4,
  "nbformat_minor": 0
}